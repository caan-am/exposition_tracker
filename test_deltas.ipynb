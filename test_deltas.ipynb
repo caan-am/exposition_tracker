{
 "cells": [
  {
   "cell_type": "code",
   "execution_count": 1,
   "metadata": {},
   "outputs": [],
   "source": [
    "from ib_insync import *\n",
    "from get_portfolio import *"
   ]
  },
  {
   "cell_type": "code",
   "execution_count": null,
   "metadata": {},
   "outputs": [
    {
     "name": "stderr",
     "output_type": "stream",
     "text": [
      "Error 10275, reqId -1: Positions info is not available for account(s): U18414148,U18580926 until the application is finished and approved.\n"
     ]
    },
    {
     "data": {
      "text/plain": [
       "<IB connected to 127.0.0.1:7496 clientId=14>"
      ]
     },
     "execution_count": 2,
     "metadata": {},
     "output_type": "execute_result"
    },
    {
     "name": "stderr",
     "output_type": "stream",
     "text": [
      "Error 200, reqId 14: No security definition has been found for the request, contract: Contract(conId=759935494, exchange='SMART')\n",
      "Error 200, reqId 15: No security definition has been found for the request, contract: Contract(conId=759935494, exchange='SMART')\n",
      "Error 1100, reqId -1: Connectivity between IBKR and Trader Workstation has been lost.\n",
      "Error 1100, reqId -1: Connectivity between IBKR and Trader Workstation has been lost.\n",
      "Peer closed connection.\n"
     ]
    }
   ],
   "source": [
    "util.startLoop()\n",
    "\n",
    "ib = IB()\n",
    "ib.connect('127.0.0.1', 7496, clientId=14, readonly=True)"
   ]
  },
  {
   "cell_type": "code",
   "execution_count": 3,
   "metadata": {},
   "outputs": [
    {
     "name": "stdout",
     "output_type": "stream",
     "text": [
      "Request Headers: {'User-Agent': 'Python/3.12.8', 'Accept-Encoding': 'gzip, deflate', 'Accept': '*/*', 'Connection': 'keep-alive'}\n",
      "Response Headers: {'Referrer-Policy': 'Origin-when-cross-origin', 'Content-Encoding': 'gzip', 'Content-Type': 'text/xml', 'X-Content-Type-Options': 'nosniff', 'Content-Security-Policy': \"frame-ancestors 'self'  *.interactivebrokers.com  *.interactivebrokers.ca  *.interactivebrokers.com.hk  *.interactivebrokers.hk  *.interactivebrokers.ch  *.interactivebrokers.eu  *.interactivebrokers.ie  *.interactivebrokers.lu  *.interactivebrokers.hu  *.interactivebrokers.com.sg  *.ibkr.com.sg  *.interactivebrokers.ch  *.interactivebrokers.co.uk  *.interactivebrokers.com.au  *.interactivebrokers.co.jp  *.interactivebrokers.co.in  *.ibkram.com  IBKR.docebosaas.com  *.interactiveadvisors.com  *.ibkr.com  *.ibkr.com.cn  *.clientam.com  *.youtube.com  *.clientam.ch  *.clientam.com.hk  *.go-mpulse.net  *.akstat.io  *.lynxbroker.com  impact.interactivebrokers.com  widgets.tipranks.com  site.recognia.com  *.portfolioanalyst.com  portfolioanalyst.com  www.portfolioanalyst.com  www.interactivebrokers.com  https://www.interactivebrokers.com/  ibkr.paxosclients.com  worldtrader.hsbc.ae  *.xstaging.tv  *.ibkrcampus.com  ibkrcampus.com  www.ibkrguides.com  *.greenwichcompliance.com;\", 'Content-Length': '200', 'Expires': 'Tue, 15 Apr 2025 14:50:58 GMT', 'Cache-Control': 'max-age=0, no-cache, no-store', 'Pragma': 'no-cache', 'Date': 'Tue, 15 Apr 2025 14:50:58 GMT', 'Connection': 'keep-alive', 'Set-Cookie': 'JSESSIONID=96FC60DB4D5A4E7A5A620A38B7A4C709.ny5www2; Path=/Universal; Secure; HttpOnly;Secure;SameSite=None, x-sess-uuid=0.91d81102.1744728657.5e301ddd; secure; HttpOnly', 'Server-Timing': 'cdn-cache; desc=MISS, edge; dur=52, origin; dur=170, ak_p; desc=\"1744728657976_34723985_1580211677_22166_6762_31_34_-\";dur=1', 'Strict-Transport-Security': 'max-age=600 ; includeSubDomains', 'Vary': 'Origin'}\n",
      "Response Status Code: 200\n",
      "Respuesta Completa:\n",
      "<FlexStatementResponse timestamp='15 April, 2025 10:50 AM EDT'>\n",
      "<Status>Success</Status>\n",
      "<ReferenceCode>8275781215</ReferenceCode>\n",
      "<Url>https://gdcdyn.interactivebrokers.com/Universal/servlet/FlexStatementService.GetStatement</Url>\n",
      "</FlexStatementResponse>\n",
      "\n",
      "Reference Code obtenido: 8275781215\n",
      "Response Status Code for Download: 200\n",
      "Response Headers for Download: {'Date': 'Tue, 15 Apr 2025 14:51:03 GMT', 'Server': 'Apache', 'Referrer-Policy': 'Origin-when-cross-origin', 'Cache-Control': 'private', 'Content-Encoding': 'gzip', 'Content-Type': 'text/plain', 'X-Content-Type-Options': 'nosniff', 'Vary': 'Origin', 'Content-Security-Policy': \"frame-ancestors 'self'  *.interactivebrokers.com  *.interactivebrokers.ca  *.interactivebrokers.com.hk  *.interactivebrokers.hk  *.interactivebrokers.ch  *.interactivebrokers.eu  *.interactivebrokers.ie  *.interactivebrokers.lu  *.interactivebrokers.hu  *.interactivebrokers.com.sg  *.ibkr.com.sg  *.interactivebrokers.ch  *.interactivebrokers.co.uk  *.interactivebrokers.com.au  *.interactivebrokers.co.jp  *.interactivebrokers.co.in  *.ibkram.com  IBKR.docebosaas.com  *.interactiveadvisors.com  *.ibkr.com  *.ibkr.com.cn  *.clientam.com  *.youtube.com  *.clientam.ch  *.clientam.com.hk  *.go-mpulse.net  *.akstat.io  *.lynxbroker.com  impact.interactivebrokers.com  widgets.tipranks.com  site.recognia.com  *.portfolioanalyst.com  portfolioanalyst.com  www.portfolioanalyst.com  www.interactivebrokers.com  https://www.interactivebrokers.com/  ibkr.paxosclients.com  worldtrader.hsbc.ae  *.ibkrcampus.com  ibkrcampus.com  www.ibkrguides.com  *.greenwichcompliance.com;\", 'Set-Cookie': 'JSESSIONID=6443FCD6CDA07F1B28C038D1085918C0.ny5www2; Path=/Universal; Secure; HttpOnly;Secure;SameSite=None', 'Keep-Alive': 'timeout=5, max=200', 'Connection': 'Keep-Alive', 'Transfer-Encoding': 'chunked'}\n",
      "Contenido del archivo descargado:\n",
      "Request Headers: {'User-Agent': 'Python/3.12.8', 'Accept-Encoding': 'gzip, deflate', 'Accept': '*/*', 'Connection': 'keep-alive'}\n",
      "Response Headers: {'Referrer-Policy': 'Origin-when-cross-origin', 'Content-Encoding': 'gzip', 'Content-Type': 'text/xml', 'X-Content-Type-Options': 'nosniff', 'Content-Security-Policy': \"frame-ancestors 'self'  *.interactivebrokers.com  *.interactivebrokers.ca  *.interactivebrokers.com.hk  *.interactivebrokers.hk  *.interactivebrokers.ch  *.interactivebrokers.eu  *.interactivebrokers.ie  *.interactivebrokers.lu  *.interactivebrokers.hu  *.interactivebrokers.com.sg  *.ibkr.com.sg  *.interactivebrokers.ch  *.interactivebrokers.co.uk  *.interactivebrokers.com.au  *.interactivebrokers.co.jp  *.interactivebrokers.co.in  *.ibkram.com  IBKR.docebosaas.com  *.interactiveadvisors.com  *.ibkr.com  *.ibkr.com.cn  *.clientam.com  *.youtube.com  *.clientam.ch  *.clientam.com.hk  *.go-mpulse.net  *.akstat.io  *.lynxbroker.com  impact.interactivebrokers.com  widgets.tipranks.com  site.recognia.com  *.portfolioanalyst.com  portfolioanalyst.com  www.portfolioanalyst.com  www.interactivebrokers.com  https://www.interactivebrokers.com/  ibkr.paxosclients.com  worldtrader.hsbc.ae  *.xstaging.tv  *.ibkrcampus.com  ibkrcampus.com  www.ibkrguides.com  *.greenwichcompliance.com;\", 'Content-Length': '200', 'Expires': 'Tue, 15 Apr 2025 14:51:03 GMT', 'Cache-Control': 'max-age=0, no-cache, no-store', 'Pragma': 'no-cache', 'Date': 'Tue, 15 Apr 2025 14:51:03 GMT', 'Connection': 'keep-alive', 'Set-Cookie': 'JSESSIONID=F8408AAFB53C4691AAD5ADBA5BD47642.ny5www2; Path=/Universal; Secure; HttpOnly;Secure;SameSite=None, x-sess-uuid=0.8cd81102.1744728663.c4a37f67; secure; HttpOnly', 'Server-Timing': 'cdn-cache; desc=MISS, edge; dur=11, origin; dur=175, ak_p; desc=\"1744728663752_34723980_3299049319_18560_6480_27_31_-\";dur=1', 'Strict-Transport-Security': 'max-age=600 ; includeSubDomains', 'Vary': 'Origin'}\n",
      "Response Status Code: 200\n",
      "Respuesta Completa:\n",
      "<FlexStatementResponse timestamp='15 April, 2025 10:51 AM EDT'>\n",
      "<Status>Success</Status>\n",
      "<ReferenceCode>6756719276</ReferenceCode>\n",
      "<Url>https://gdcdyn.interactivebrokers.com/Universal/servlet/FlexStatementService.GetStatement</Url>\n",
      "</FlexStatementResponse>\n",
      "\n",
      "Reference Code obtenido: 6756719276\n",
      "Response Status Code for Download: 200\n",
      "Response Headers for Download: {'Date': 'Tue, 15 Apr 2025 14:51:09 GMT', 'Server': 'Apache', 'Referrer-Policy': 'Origin-when-cross-origin', 'Cache-Control': 'private', 'Content-Encoding': 'gzip', 'Content-Type': 'text/plain', 'X-Content-Type-Options': 'nosniff', 'Vary': 'Origin', 'Content-Security-Policy': \"frame-ancestors 'self'  *.interactivebrokers.com  *.interactivebrokers.ca  *.interactivebrokers.com.hk  *.interactivebrokers.hk  *.interactivebrokers.ch  *.interactivebrokers.eu  *.interactivebrokers.ie  *.interactivebrokers.lu  *.interactivebrokers.hu  *.interactivebrokers.com.sg  *.ibkr.com.sg  *.interactivebrokers.ch  *.interactivebrokers.co.uk  *.interactivebrokers.com.au  *.interactivebrokers.co.jp  *.interactivebrokers.co.in  *.ibkram.com  IBKR.docebosaas.com  *.interactiveadvisors.com  *.ibkr.com  *.ibkr.com.cn  *.clientam.com  *.youtube.com  *.clientam.ch  *.clientam.com.hk  *.go-mpulse.net  *.akstat.io  *.lynxbroker.com  impact.interactivebrokers.com  widgets.tipranks.com  site.recognia.com  *.portfolioanalyst.com  portfolioanalyst.com  www.portfolioanalyst.com  www.interactivebrokers.com  https://www.interactivebrokers.com/  ibkr.paxosclients.com  worldtrader.hsbc.ae  *.ibkrcampus.com  ibkrcampus.com  www.ibkrguides.com  *.greenwichcompliance.com;\", 'Set-Cookie': 'JSESSIONID=BD661190A6A5E84E2C9714EC3143805B.ny5www5; Path=/Universal; Secure; HttpOnly;Secure;SameSite=None', 'Keep-Alive': 'timeout=5, max=200', 'Connection': 'Keep-Alive', 'Transfer-Encoding': 'chunked'}\n",
      "Contenido del archivo descargado:\n"
     ]
    },
    {
     "name": "stderr",
     "output_type": "stream",
     "text": [
      "c:\\Users\\alber\\OneDrive - CAAN Alternative Asset Management, S.A\\Escritorio\\exposition_tracker\\get_portfolio.py:151: FutureWarning: The behavior of DataFrame concatenation with empty or all-NA entries is deprecated. In a future version, this will no longer exclude empty or all-NA columns when determining the result dtypes. To retain the old behavior, exclude the relevant entries before the concat operation.\n",
      "  current_positions = pd.concat([positions,trades_today])\n",
      "c:\\Users\\alber\\OneDrive - CAAN Alternative Asset Management, S.A\\Escritorio\\exposition_tracker\\get_portfolio.py:151: FutureWarning: The behavior of DataFrame concatenation with empty or all-NA entries is deprecated. In a future version, this will no longer exclude empty or all-NA columns when determining the result dtypes. To retain the old behavior, exclude the relevant entries before the concat operation.\n",
      "  current_positions = pd.concat([positions,trades_today])\n"
     ]
    }
   ],
   "source": [
    "positions = get_current_portfolio()"
   ]
  },
  {
   "cell_type": "code",
   "execution_count": null,
   "metadata": {},
   "outputs": [],
   "source": []
  },
  {
   "cell_type": "code",
   "execution_count": 4,
   "metadata": {},
   "outputs": [],
   "source": [
    "positions['Expiry'] = pd.to_datetime(positions['Expiry'])\n",
    "positions['Expiry'] = positions['Expiry'].dt.strftime('%Y%m%d')"
   ]
  },
  {
   "cell_type": "code",
   "execution_count": 5,
   "metadata": {},
   "outputs": [
    {
     "data": {
      "application/vnd.microsoft.datawrangler.viewer.v0+json": {
       "columns": [
        {
         "name": "index",
         "rawType": "int64",
         "type": "integer"
        },
        {
         "name": "Description",
         "rawType": "object",
         "type": "string"
        },
        {
         "name": "Symbol",
         "rawType": "object",
         "type": "string"
        },
        {
         "name": "CurrencyPrimary",
         "rawType": "object",
         "type": "string"
        },
        {
         "name": "AssetClass",
         "rawType": "object",
         "type": "string"
        },
        {
         "name": "Quantity",
         "rawType": "object",
         "type": "unknown"
        },
        {
         "name": "Multiplier",
         "rawType": "object",
         "type": "unknown"
        },
        {
         "name": "UnderlyingSymbol",
         "rawType": "object",
         "type": "string"
        },
        {
         "name": "ListingExchange",
         "rawType": "object",
         "type": "string"
        },
        {
         "name": "Strike",
         "rawType": "float64",
         "type": "float"
        },
        {
         "name": "Expiry",
         "rawType": "object",
         "type": "string"
        },
        {
         "name": "Conid",
         "rawType": "object",
         "type": "unknown"
        }
       ],
       "conversionMethod": "pd.DataFrame",
       "ref": "513ef9af-6533-463e-9cb5-ee51f3d5c077",
       "rows": [
        [
         "3",
         "ES 17APR25 5480 P",
         "E3DJ5 P5480",
         "USD",
         "FOP",
         "-3",
         "50",
         "ESM5",
         "CME",
         "5480.0",
         "20250417",
         "769615430"
        ],
        [
         "4",
         "ES 17APR25 5670 P",
         "E3DJ5 P5670",
         "USD",
         "FOP",
         "3",
         "50",
         "ESM5",
         "CME",
         "5670.0",
         "20250417",
         "769614950"
        ],
        [
         "5",
         "GLNG 17APR25 34 P",
         "GLNG  250417P00034000",
         "USD",
         "OPT",
         "-8",
         "100",
         "GLNG",
         "CBOE",
         "34.0",
         "20250417",
         "762938880"
        ],
        [
         "12",
         "SOI 17APR25 57 P",
         "LF1 APR25 57 P",
         "EUR",
         "OPT",
         "-5",
         "100",
         "SOI",
         "MONEP",
         "57.0",
         "20250417",
         "759935494"
        ],
        [
         "13",
         "VET 20JUN25 5 P",
         "VET   250620P00005000",
         "USD",
         "OPT",
         "24",
         "100",
         "VET",
         "CBOE",
         "5.0",
         "20250620",
         "736192429"
        ]
       ],
       "shape": {
        "columns": 11,
        "rows": 5
       }
      },
      "text/html": [
       "<div>\n",
       "<style scoped>\n",
       "    .dataframe tbody tr th:only-of-type {\n",
       "        vertical-align: middle;\n",
       "    }\n",
       "\n",
       "    .dataframe tbody tr th {\n",
       "        vertical-align: top;\n",
       "    }\n",
       "\n",
       "    .dataframe thead th {\n",
       "        text-align: right;\n",
       "    }\n",
       "</style>\n",
       "<table border=\"1\" class=\"dataframe\">\n",
       "  <thead>\n",
       "    <tr style=\"text-align: right;\">\n",
       "      <th></th>\n",
       "      <th>Description</th>\n",
       "      <th>Symbol</th>\n",
       "      <th>CurrencyPrimary</th>\n",
       "      <th>AssetClass</th>\n",
       "      <th>Quantity</th>\n",
       "      <th>Multiplier</th>\n",
       "      <th>UnderlyingSymbol</th>\n",
       "      <th>ListingExchange</th>\n",
       "      <th>Strike</th>\n",
       "      <th>Expiry</th>\n",
       "      <th>Conid</th>\n",
       "    </tr>\n",
       "  </thead>\n",
       "  <tbody>\n",
       "    <tr>\n",
       "      <th>3</th>\n",
       "      <td>ES 17APR25 5480 P</td>\n",
       "      <td>E3DJ5 P5480</td>\n",
       "      <td>USD</td>\n",
       "      <td>FOP</td>\n",
       "      <td>-3</td>\n",
       "      <td>50</td>\n",
       "      <td>ESM5</td>\n",
       "      <td>CME</td>\n",
       "      <td>5480.0</td>\n",
       "      <td>20250417</td>\n",
       "      <td>769615430</td>\n",
       "    </tr>\n",
       "    <tr>\n",
       "      <th>4</th>\n",
       "      <td>ES 17APR25 5670 P</td>\n",
       "      <td>E3DJ5 P5670</td>\n",
       "      <td>USD</td>\n",
       "      <td>FOP</td>\n",
       "      <td>3</td>\n",
       "      <td>50</td>\n",
       "      <td>ESM5</td>\n",
       "      <td>CME</td>\n",
       "      <td>5670.0</td>\n",
       "      <td>20250417</td>\n",
       "      <td>769614950</td>\n",
       "    </tr>\n",
       "    <tr>\n",
       "      <th>5</th>\n",
       "      <td>GLNG 17APR25 34 P</td>\n",
       "      <td>GLNG  250417P00034000</td>\n",
       "      <td>USD</td>\n",
       "      <td>OPT</td>\n",
       "      <td>-8</td>\n",
       "      <td>100</td>\n",
       "      <td>GLNG</td>\n",
       "      <td>CBOE</td>\n",
       "      <td>34.0</td>\n",
       "      <td>20250417</td>\n",
       "      <td>762938880</td>\n",
       "    </tr>\n",
       "    <tr>\n",
       "      <th>12</th>\n",
       "      <td>SOI 17APR25 57 P</td>\n",
       "      <td>LF1 APR25 57 P</td>\n",
       "      <td>EUR</td>\n",
       "      <td>OPT</td>\n",
       "      <td>-5</td>\n",
       "      <td>100</td>\n",
       "      <td>SOI</td>\n",
       "      <td>MONEP</td>\n",
       "      <td>57.0</td>\n",
       "      <td>20250417</td>\n",
       "      <td>759935494</td>\n",
       "    </tr>\n",
       "    <tr>\n",
       "      <th>13</th>\n",
       "      <td>VET 20JUN25 5 P</td>\n",
       "      <td>VET   250620P00005000</td>\n",
       "      <td>USD</td>\n",
       "      <td>OPT</td>\n",
       "      <td>24</td>\n",
       "      <td>100</td>\n",
       "      <td>VET</td>\n",
       "      <td>CBOE</td>\n",
       "      <td>5.0</td>\n",
       "      <td>20250620</td>\n",
       "      <td>736192429</td>\n",
       "    </tr>\n",
       "  </tbody>\n",
       "</table>\n",
       "</div>"
      ],
      "text/plain": [
       "          Description                 Symbol CurrencyPrimary AssetClass  \\\n",
       "3   ES 17APR25 5480 P            E3DJ5 P5480             USD        FOP   \n",
       "4   ES 17APR25 5670 P            E3DJ5 P5670             USD        FOP   \n",
       "5   GLNG 17APR25 34 P  GLNG  250417P00034000             USD        OPT   \n",
       "12   SOI 17APR25 57 P         LF1 APR25 57 P             EUR        OPT   \n",
       "13    VET 20JUN25 5 P  VET   250620P00005000             USD        OPT   \n",
       "\n",
       "   Quantity Multiplier UnderlyingSymbol ListingExchange  Strike    Expiry  \\\n",
       "3        -3         50             ESM5             CME  5480.0  20250417   \n",
       "4         3         50             ESM5             CME  5670.0  20250417   \n",
       "5        -8        100             GLNG            CBOE    34.0  20250417   \n",
       "12       -5        100              SOI           MONEP    57.0  20250417   \n",
       "13       24        100              VET            CBOE     5.0  20250620   \n",
       "\n",
       "        Conid  \n",
       "3   769615430  \n",
       "4   769614950  \n",
       "5   762938880  \n",
       "12  759935494  \n",
       "13  736192429  "
      ]
     },
     "execution_count": 5,
     "metadata": {},
     "output_type": "execute_result"
    }
   ],
   "source": [
    "options = positions[(positions.AssetClass == \"OPT\")|(positions.AssetClass == \"FOP\")]\n",
    "options"
   ]
  },
  {
   "cell_type": "code",
   "execution_count": 6,
   "metadata": {},
   "outputs": [],
   "source": [
    "# contract = Contract(conId=769615430, exchange='CME')\n",
    "# ib.qualifyContracts(contract)\n",
    "\n",
    "# ticker = ib.reqMktData(contract, '', False, False)\n",
    "# ib.sleep(2)\n",
    "\n",
    "# print(contract)\n",
    "# print(\"Bid/Ask:\", ticker.bid, \"/\", ticker.ask)\n",
    "# print(\"Greeks:\", ticker.modelGreeks)"
   ]
  },
  {
   "cell_type": "code",
   "execution_count": null,
   "metadata": {},
   "outputs": [],
   "source": []
  },
  {
   "cell_type": "code",
   "execution_count": null,
   "metadata": {},
   "outputs": [],
   "source": []
  },
  {
   "cell_type": "code",
   "execution_count": 7,
   "metadata": {},
   "outputs": [
    {
     "name": "stderr",
     "output_type": "stream",
     "text": [
      "Unknown contract: Contract(conId=759935494, exchange='SMART')\n"
     ]
    },
    {
     "name": "stdout",
     "output_type": "stream",
     "text": [
      "⚠️ Sin delta para SOI 17APR25 57 P\n",
      "  Bid: nan, Ask: nan, Last: nan\n",
      "  Greeks: None\n",
      "          Description     Delta\n",
      "3   ES 17APR25 5480 P -0.570089\n",
      "4   ES 17APR25 5670 P -0.968791\n",
      "5   GLNG 17APR25 34 P -0.143647\n",
      "12   SOI 17APR25 57 P       NaN\n",
      "13    VET 20JUN25 5 P -0.178525\n"
     ]
    },
    {
     "name": "stderr",
     "output_type": "stream",
     "text": [
      "C:\\Users\\alber\\AppData\\Local\\Temp\\ipykernel_39688\\1443328488.py:31: SettingWithCopyWarning: \n",
      "A value is trying to be set on a copy of a slice from a DataFrame.\n",
      "Try using .loc[row_indexer,col_indexer] = value instead\n",
      "\n",
      "See the caveats in the documentation: https://pandas.pydata.org/pandas-docs/stable/user_guide/indexing.html#returning-a-view-versus-a-copy\n",
      "  options['Delta'] = deltas\n"
     ]
    }
   ],
   "source": [
    "deltas = []\n",
    "\n",
    "for idx, row in options.iterrows():\n",
    "    try:\n",
    "        # Detectar si es una opción sobre futuro (como ES)\n",
    "        if row['UnderlyingSymbol'].startswith('ES'):\n",
    "            exchange = 'CME'\n",
    "        else:\n",
    "            exchange = 'SMART'\n",
    "\n",
    "        contract = Contract(conId=int(row['Conid']), exchange=exchange)\n",
    "        ib.qualifyContracts(contract)\n",
    "\n",
    "        ticker = ib.reqMktData(contract, '', False, False)\n",
    "        ib.sleep(2)\n",
    "\n",
    "        delta = ticker.modelGreeks.delta if ticker.modelGreeks else None\n",
    "\n",
    "        # Debug si delta no llega\n",
    "        if delta is None:\n",
    "            print(f\"⚠️ Sin delta para {row['Description']}\")\n",
    "            print(f\"  Bid: {ticker.bid}, Ask: {ticker.ask}, Last: {ticker.last}\")\n",
    "            print(f\"  Greeks: {ticker.modelGreeks}\")\n",
    "\n",
    "        deltas.append(delta)\n",
    "\n",
    "    except Exception as e:\n",
    "        print(f\"❌ Error con {row['Description']}: {e}\")\n",
    "        deltas.append(None)\n",
    "\n",
    "options['Delta'] = deltas\n",
    "print(options[['Description', 'Delta']])\n"
   ]
  },
  {
   "cell_type": "code",
   "execution_count": 8,
   "metadata": {},
   "outputs": [
    {
     "data": {
      "application/vnd.microsoft.datawrangler.viewer.v0+json": {
       "columns": [
        {
         "name": "index",
         "rawType": "int64",
         "type": "integer"
        },
        {
         "name": "Description",
         "rawType": "object",
         "type": "string"
        },
        {
         "name": "Symbol",
         "rawType": "object",
         "type": "string"
        },
        {
         "name": "CurrencyPrimary",
         "rawType": "object",
         "type": "string"
        },
        {
         "name": "AssetClass",
         "rawType": "object",
         "type": "string"
        },
        {
         "name": "Quantity",
         "rawType": "object",
         "type": "unknown"
        },
        {
         "name": "Multiplier",
         "rawType": "object",
         "type": "unknown"
        },
        {
         "name": "UnderlyingSymbol",
         "rawType": "object",
         "type": "string"
        },
        {
         "name": "ListingExchange",
         "rawType": "object",
         "type": "string"
        },
        {
         "name": "Strike",
         "rawType": "float64",
         "type": "float"
        },
        {
         "name": "Expiry",
         "rawType": "object",
         "type": "string"
        },
        {
         "name": "Conid",
         "rawType": "object",
         "type": "unknown"
        },
        {
         "name": "Delta",
         "rawType": "float64",
         "type": "float"
        }
       ],
       "conversionMethod": "pd.DataFrame",
       "ref": "abac0561-b317-419b-81cb-6cd6ad5bdfcb",
       "rows": [
        [
         "3",
         "ES 17APR25 5480 P",
         "E3DJ5 P5480",
         "USD",
         "FOP",
         "-3",
         "50",
         "ESM5",
         "CME",
         "5480.0",
         "20250417",
         "769615430",
         "-0.5700889864284556"
        ],
        [
         "4",
         "ES 17APR25 5670 P",
         "E3DJ5 P5670",
         "USD",
         "FOP",
         "3",
         "50",
         "ESM5",
         "CME",
         "5670.0",
         "20250417",
         "769614950",
         "-0.9687906263002081"
        ],
        [
         "5",
         "GLNG 17APR25 34 P",
         "GLNG  250417P00034000",
         "USD",
         "OPT",
         "-8",
         "100",
         "GLNG",
         "CBOE",
         "34.0",
         "20250417",
         "762938880",
         "-0.14364741419055224"
        ],
        [
         "12",
         "SOI 17APR25 57 P",
         "LF1 APR25 57 P",
         "EUR",
         "OPT",
         "-5",
         "100",
         "SOI",
         "MONEP",
         "57.0",
         "20250417",
         "759935494",
         null
        ],
        [
         "13",
         "VET 20JUN25 5 P",
         "VET   250620P00005000",
         "USD",
         "OPT",
         "24",
         "100",
         "VET",
         "CBOE",
         "5.0",
         "20250620",
         "736192429",
         "-0.17852462497626143"
        ]
       ],
       "shape": {
        "columns": 12,
        "rows": 5
       }
      },
      "text/html": [
       "<div>\n",
       "<style scoped>\n",
       "    .dataframe tbody tr th:only-of-type {\n",
       "        vertical-align: middle;\n",
       "    }\n",
       "\n",
       "    .dataframe tbody tr th {\n",
       "        vertical-align: top;\n",
       "    }\n",
       "\n",
       "    .dataframe thead th {\n",
       "        text-align: right;\n",
       "    }\n",
       "</style>\n",
       "<table border=\"1\" class=\"dataframe\">\n",
       "  <thead>\n",
       "    <tr style=\"text-align: right;\">\n",
       "      <th></th>\n",
       "      <th>Description</th>\n",
       "      <th>Symbol</th>\n",
       "      <th>CurrencyPrimary</th>\n",
       "      <th>AssetClass</th>\n",
       "      <th>Quantity</th>\n",
       "      <th>Multiplier</th>\n",
       "      <th>UnderlyingSymbol</th>\n",
       "      <th>ListingExchange</th>\n",
       "      <th>Strike</th>\n",
       "      <th>Expiry</th>\n",
       "      <th>Conid</th>\n",
       "      <th>Delta</th>\n",
       "    </tr>\n",
       "  </thead>\n",
       "  <tbody>\n",
       "    <tr>\n",
       "      <th>3</th>\n",
       "      <td>ES 17APR25 5480 P</td>\n",
       "      <td>E3DJ5 P5480</td>\n",
       "      <td>USD</td>\n",
       "      <td>FOP</td>\n",
       "      <td>-3</td>\n",
       "      <td>50</td>\n",
       "      <td>ESM5</td>\n",
       "      <td>CME</td>\n",
       "      <td>5480.0</td>\n",
       "      <td>20250417</td>\n",
       "      <td>769615430</td>\n",
       "      <td>-0.570089</td>\n",
       "    </tr>\n",
       "    <tr>\n",
       "      <th>4</th>\n",
       "      <td>ES 17APR25 5670 P</td>\n",
       "      <td>E3DJ5 P5670</td>\n",
       "      <td>USD</td>\n",
       "      <td>FOP</td>\n",
       "      <td>3</td>\n",
       "      <td>50</td>\n",
       "      <td>ESM5</td>\n",
       "      <td>CME</td>\n",
       "      <td>5670.0</td>\n",
       "      <td>20250417</td>\n",
       "      <td>769614950</td>\n",
       "      <td>-0.968791</td>\n",
       "    </tr>\n",
       "    <tr>\n",
       "      <th>5</th>\n",
       "      <td>GLNG 17APR25 34 P</td>\n",
       "      <td>GLNG  250417P00034000</td>\n",
       "      <td>USD</td>\n",
       "      <td>OPT</td>\n",
       "      <td>-8</td>\n",
       "      <td>100</td>\n",
       "      <td>GLNG</td>\n",
       "      <td>CBOE</td>\n",
       "      <td>34.0</td>\n",
       "      <td>20250417</td>\n",
       "      <td>762938880</td>\n",
       "      <td>-0.143647</td>\n",
       "    </tr>\n",
       "    <tr>\n",
       "      <th>12</th>\n",
       "      <td>SOI 17APR25 57 P</td>\n",
       "      <td>LF1 APR25 57 P</td>\n",
       "      <td>EUR</td>\n",
       "      <td>OPT</td>\n",
       "      <td>-5</td>\n",
       "      <td>100</td>\n",
       "      <td>SOI</td>\n",
       "      <td>MONEP</td>\n",
       "      <td>57.0</td>\n",
       "      <td>20250417</td>\n",
       "      <td>759935494</td>\n",
       "      <td>NaN</td>\n",
       "    </tr>\n",
       "    <tr>\n",
       "      <th>13</th>\n",
       "      <td>VET 20JUN25 5 P</td>\n",
       "      <td>VET   250620P00005000</td>\n",
       "      <td>USD</td>\n",
       "      <td>OPT</td>\n",
       "      <td>24</td>\n",
       "      <td>100</td>\n",
       "      <td>VET</td>\n",
       "      <td>CBOE</td>\n",
       "      <td>5.0</td>\n",
       "      <td>20250620</td>\n",
       "      <td>736192429</td>\n",
       "      <td>-0.178525</td>\n",
       "    </tr>\n",
       "  </tbody>\n",
       "</table>\n",
       "</div>"
      ],
      "text/plain": [
       "          Description                 Symbol CurrencyPrimary AssetClass  \\\n",
       "3   ES 17APR25 5480 P            E3DJ5 P5480             USD        FOP   \n",
       "4   ES 17APR25 5670 P            E3DJ5 P5670             USD        FOP   \n",
       "5   GLNG 17APR25 34 P  GLNG  250417P00034000             USD        OPT   \n",
       "12   SOI 17APR25 57 P         LF1 APR25 57 P             EUR        OPT   \n",
       "13    VET 20JUN25 5 P  VET   250620P00005000             USD        OPT   \n",
       "\n",
       "   Quantity Multiplier UnderlyingSymbol ListingExchange  Strike    Expiry  \\\n",
       "3        -3         50             ESM5             CME  5480.0  20250417   \n",
       "4         3         50             ESM5             CME  5670.0  20250417   \n",
       "5        -8        100             GLNG            CBOE    34.0  20250417   \n",
       "12       -5        100              SOI           MONEP    57.0  20250417   \n",
       "13       24        100              VET            CBOE     5.0  20250620   \n",
       "\n",
       "        Conid     Delta  \n",
       "3   769615430 -0.570089  \n",
       "4   769614950 -0.968791  \n",
       "5   762938880 -0.143647  \n",
       "12  759935494       NaN  \n",
       "13  736192429 -0.178525  "
      ]
     },
     "execution_count": 8,
     "metadata": {},
     "output_type": "execute_result"
    }
   ],
   "source": [
    "options"
   ]
  },
  {
   "cell_type": "code",
   "execution_count": 17,
   "metadata": {},
   "outputs": [
    {
     "data": {
      "text/plain": [
       "Contract(conId=736192429)"
      ]
     },
     "execution_count": 17,
     "metadata": {},
     "output_type": "execute_result"
    }
   ],
   "source": [
    "Contract(conId=736192429)"
   ]
  },
  {
   "cell_type": "code",
   "execution_count": 18,
   "metadata": {},
   "outputs": [
    {
     "data": {
      "text/plain": [
       "Ticker(contract=Stock(conId=265598, symbol='AAPL', exchange='SMART', primaryExchange='NASDAQ', currency='USD', localSymbol='AAPL', tradingClass='NMS'))"
      ]
     },
     "execution_count": 18,
     "metadata": {},
     "output_type": "execute_result"
    }
   ],
   "source": [
    "stock = Stock('AAPL', 'SMART', 'USD')\n",
    "ib.qualifyContracts(stock)\n",
    "data = ib.reqMktData(stock)\n",
    "data"
   ]
  },
  {
   "cell_type": "code",
   "execution_count": 19,
   "metadata": {},
   "outputs": [
    {
     "name": "stdout",
     "output_type": "stream",
     "text": [
      "200.93\n"
     ]
    }
   ],
   "source": [
    "stockValue = data.marketPrice()\n",
    "print(stockValue)"
   ]
  },
  {
   "cell_type": "code",
   "execution_count": 20,
   "metadata": {},
   "outputs": [
    {
     "data": {
      "text/plain": [
       "110.46"
      ]
     },
     "execution_count": 20,
     "metadata": {},
     "output_type": "execute_result"
    }
   ],
   "source": [
    "nvda = Stock(\"NVDA\", \"SMART\", \"USD\")\n",
    "ib.qualifyContracts(nvda)\n",
    "[ticker] = ib.reqTickers(nvda)\n",
    "nvdaValue = ticker.marketPrice()\n",
    "nvdaValue"
   ]
  },
  {
   "cell_type": "code",
   "execution_count": 7,
   "metadata": {},
   "outputs": [
    {
     "name": "stderr",
     "output_type": "stream",
     "text": [
      "Unknown contract: Stock(symbol='ESM5', exchange='SMART', currency='USD')\n",
      "Unknown contract: Stock(symbol='ESM5', exchange='SMART', currency='USD')\n"
     ]
    },
    {
     "name": "stdout",
     "output_type": "stream",
     "text": [
      "ESM5\n",
      "nan\n",
      "ESM5\n",
      "nan\n",
      "GLNG\n",
      "nan\n",
      "HEIA\n",
      "nan\n",
      "SOI\n",
      "nan\n",
      "VET\n",
      "nan\n",
      "YPF\n",
      "nan\n"
     ]
    }
   ],
   "source": [
    "for row in options.itertuples():\n",
    "    print(row.UnderlyingSymbol)\n",
    "    stock = Stock(row.UnderlyingSymbol, \"SMART\", row.CurrencyPrimary)\n",
    "    ib.qualifyContracts(stock)\n",
    "    [ticker] = ib.reqTickers(stock)\n",
    "    nvdaValue = ticker.marketPrice()\n",
    "    print(nvdaValue)"
   ]
  },
  {
   "cell_type": "code",
   "execution_count": null,
   "metadata": {},
   "outputs": [],
   "source": [
    "nvda = Stock(\"NVDA\", \"SMART\", \"USD\")"
   ]
  },
  {
   "cell_type": "code",
   "execution_count": 28,
   "metadata": {},
   "outputs": [],
   "source": [
    "chains = ib.reqSecDefOptParams(nvda.symbol, \"\", nvda.secType, nvda.conId)\n",
    "chain = next(c for c in chains if c.tradingClass == \"NVDA\" and c.exchange == \"SMART\")"
   ]
  },
  {
   "cell_type": "code",
   "execution_count": 29,
   "metadata": {},
   "outputs": [
    {
     "data": {
      "text/plain": [
       "OptionChain(exchange='SMART', underlyingConId='4815747', tradingClass='NVDA', multiplier='100', expirations=['20250404', '20250411', '20250417', '20250425', '20250502', '20250509', '20250516', '20250620', '20250718', '20250815', '20250919', '20251017', '20251121', '20251219', '20260116', '20260320', '20260618', '20260918', '20261218', '20270115', '20270617', '20271217'], strikes=[0.5, 1.0, 1.5, 2.0, 2.5, 3.0, 3.5, 4.0, 4.5, 5.0, 5.5, 6.0, 6.5, 7.0, 7.5, 8.0, 8.5, 9.0, 9.5, 10.0, 10.5, 11.0, 11.5, 12.0, 12.5, 13.0, 13.5, 14.0, 14.5, 15.0, 15.5, 16.0, 16.5, 17.0, 17.5, 18.0, 18.5, 19.0, 19.5, 20.0, 20.5, 21.0, 21.5, 22.0, 22.5, 23.0, 23.5, 24.0, 24.5, 25.0, 25.5, 26.0, 26.5, 27.0, 27.5, 28.0, 28.5, 29.0, 29.5, 30.0, 30.5, 31.0, 31.5, 32.0, 32.5, 33.0, 33.5, 34.0, 34.5, 35.0, 35.5, 36.0, 36.5, 37.0, 37.5, 38.0, 38.5, 39.0, 39.5, 40.0, 40.5, 41.0, 41.5, 42.0, 42.5, 43.0, 43.5, 44.0, 44.5, 45.0, 45.5, 46.0, 46.5, 47.0, 47.5, 48.0, 48.5, 49.0, 49.5, 50.0, 50.5, 51.0, 51.5, 52.0, 52.5, 53.0, 53.5, 54.0, 54.5, 55.0, 55.5, 56.0, 56.5, 57.0, 57.5, 58.0, 58.5, 59.0, 59.5, 60.0, 60.5, 61.0, 61.5, 62.0, 62.5, 63.0, 63.5, 64.0, 64.5, 65.0, 65.5, 66.0, 66.5, 67.0, 67.5, 68.0, 68.5, 69.0, 69.5, 70.0, 70.5, 71.0, 72.0, 73.0, 74.0, 75.0, 76.0, 77.0, 78.0, 79.0, 80.0, 81.0, 82.0, 83.0, 84.0, 85.0, 86.0, 87.0, 88.0, 89.0, 90.0, 91.0, 92.0, 93.0, 94.0, 95.0, 96.0, 97.0, 98.0, 99.0, 100.0, 101.0, 102.0, 103.0, 104.0, 105.0, 106.0, 107.0, 108.0, 109.0, 110.0, 111.0, 112.0, 113.0, 114.0, 115.0, 116.0, 117.0, 118.0, 119.0, 120.0, 121.0, 122.0, 123.0, 124.0, 125.0, 126.0, 127.0, 128.0, 129.0, 130.0, 131.0, 132.0, 133.0, 134.0, 135.0, 136.0, 137.0, 138.0, 139.0, 140.0, 141.0, 142.0, 143.0, 144.0, 145.0, 146.0, 147.0, 148.0, 149.0, 150.0, 151.0, 152.0, 152.5, 153.0, 154.0, 155.0, 156.0, 157.0, 157.5, 158.0, 159.0, 160.0, 161.0, 162.0, 163.0, 164.0, 165.0, 166.0, 167.0, 168.0, 169.0, 170.0, 171.0, 172.0, 173.0, 174.0, 175.0, 176.0, 177.0, 178.0, 179.0, 180.0, 181.0, 182.0, 183.0, 184.0, 185.0, 186.0, 187.0, 188.0, 189.0, 190.0, 191.0, 192.0, 193.0, 194.0, 195.0, 200.0, 205.0, 210.0, 212.0, 213.0, 214.0, 215.0, 216.0, 217.0, 218.0, 219.0, 220.0, 221.0, 222.0, 223.0, 224.0, 225.0, 226.0, 227.0, 228.0, 230.0, 235.0, 240.0, 245.0, 250.0, 255.0, 260.0, 265.0, 270.0, 275.0, 280.0, 290.0, 300.0])"
      ]
     },
     "execution_count": 29,
     "metadata": {},
     "output_type": "execute_result"
    }
   ],
   "source": [
    "chain"
   ]
  },
  {
   "cell_type": "code",
   "execution_count": 33,
   "metadata": {},
   "outputs": [],
   "source": [
    "strikes = [\n",
    "    strike for strike in chain.strikes\n",
    "    if strike % 5 == 0\n",
    "    and nvdaValue - 20 < strike < nvdaValue + 20\n",
    "]\n",
    "\n",
    "expirations = sorted(exp for exp in chain.expirations)[:8]\n",
    "rights = [\"C\", \"P\"]"
   ]
  },
  {
   "cell_type": "code",
   "execution_count": null,
   "metadata": {},
   "outputs": [],
   "source": [
    "contracts = [\n",
    "    Option(\"NVDA\", expiration, strike, right, \"SMART\", tradingClass=\"NVDA\")\n",
    "    for right in rights\n",
    "    for expiration in expirations\n",
    "    for strike in strikes\n",
    "]"
   ]
  },
  {
   "cell_type": "code",
   "execution_count": 35,
   "metadata": {},
   "outputs": [
    {
     "data": {
      "text/plain": [
       "[Option(conId=761446201, symbol='NVDA', lastTradeDateOrContractMonth='20250404', strike=90.0, right='C', multiplier='100', exchange='SMART', currency='USD', localSymbol='NVDA  250404C00090000', tradingClass='NVDA'),\n",
       " Option(conId=761446252, symbol='NVDA', lastTradeDateOrContractMonth='20250404', strike=95.0, right='C', multiplier='100', exchange='SMART', currency='USD', localSymbol='NVDA  250404C00095000', tradingClass='NVDA'),\n",
       " Option(conId=761444654, symbol='NVDA', lastTradeDateOrContractMonth='20250404', strike=100.0, right='C', multiplier='100', exchange='SMART', currency='USD', localSymbol='NVDA  250404C00100000', tradingClass='NVDA'),\n",
       " Option(conId=761444714, symbol='NVDA', lastTradeDateOrContractMonth='20250404', strike=105.0, right='C', multiplier='100', exchange='SMART', currency='USD', localSymbol='NVDA  250404C00105000', tradingClass='NVDA'),\n",
       " Option(conId=761444750, symbol='NVDA', lastTradeDateOrContractMonth='20250404', strike=110.0, right='C', multiplier='100', exchange='SMART', currency='USD', localSymbol='NVDA  250404C00110000', tradingClass='NVDA'),\n",
       " Option(conId=761444792, symbol='NVDA', lastTradeDateOrContractMonth='20250404', strike=115.0, right='C', multiplier='100', exchange='SMART', currency='USD', localSymbol='NVDA  250404C00115000', tradingClass='NVDA'),\n",
       " Option(conId=761060016, symbol='NVDA', lastTradeDateOrContractMonth='20250404', strike=120.0, right='C', multiplier='100', exchange='SMART', currency='USD', localSymbol='NVDA  250404C00120000', tradingClass='NVDA'),\n",
       " Option(conId=761060273, symbol='NVDA', lastTradeDateOrContractMonth='20250404', strike=125.0, right='C', multiplier='100', exchange='SMART', currency='USD', localSymbol='NVDA  250404C00125000', tradingClass='NVDA'),\n",
       " Option(conId=765308892, symbol='NVDA', lastTradeDateOrContractMonth='20250411', strike=90.0, right='C', multiplier='100', exchange='SMART', currency='USD', localSymbol='NVDA  250411C00090000', tradingClass='NVDA'),\n",
       " Option(conId=765308945, symbol='NVDA', lastTradeDateOrContractMonth='20250411', strike=95.0, right='C', multiplier='100', exchange='SMART', currency='USD', localSymbol='NVDA  250411C00095000', tradingClass='NVDA'),\n",
       " Option(conId=765307149, symbol='NVDA', lastTradeDateOrContractMonth='20250411', strike=100.0, right='C', multiplier='100', exchange='SMART', currency='USD', localSymbol='NVDA  250411C00100000', tradingClass='NVDA'),\n",
       " Option(conId=765307269, symbol='NVDA', lastTradeDateOrContractMonth='20250411', strike=105.0, right='C', multiplier='100', exchange='SMART', currency='USD', localSymbol='NVDA  250411C00105000', tradingClass='NVDA'),\n",
       " Option(conId=765307329, symbol='NVDA', lastTradeDateOrContractMonth='20250411', strike=110.0, right='C', multiplier='100', exchange='SMART', currency='USD', localSymbol='NVDA  250411C00110000', tradingClass='NVDA'),\n",
       " Option(conId=764869522, symbol='NVDA', lastTradeDateOrContractMonth='20250411', strike=115.0, right='C', multiplier='100', exchange='SMART', currency='USD', localSymbol='NVDA  250411C00115000', tradingClass='NVDA'),\n",
       " Option(conId=764869801, symbol='NVDA', lastTradeDateOrContractMonth='20250411', strike=120.0, right='C', multiplier='100', exchange='SMART', currency='USD', localSymbol='NVDA  250411C00120000', tradingClass='NVDA'),\n",
       " Option(conId=764870096, symbol='NVDA', lastTradeDateOrContractMonth='20250411', strike=125.0, right='C', multiplier='100', exchange='SMART', currency='USD', localSymbol='NVDA  250411C00125000', tradingClass='NVDA'),\n",
       " Option(conId=725295932, symbol='NVDA', lastTradeDateOrContractMonth='20250417', strike=90.0, right='C', multiplier='100', exchange='SMART', currency='USD', localSymbol='NVDA  250417C00090000', tradingClass='NVDA'),\n",
       " Option(conId=725295971, symbol='NVDA', lastTradeDateOrContractMonth='20250417', strike=95.0, right='C', multiplier='100', exchange='SMART', currency='USD', localSymbol='NVDA  250417C00095000', tradingClass='NVDA'),\n",
       " Option(conId=725294989, symbol='NVDA', lastTradeDateOrContractMonth='20250417', strike=100.0, right='C', multiplier='100', exchange='SMART', currency='USD', localSymbol='NVDA  250417C00100000', tradingClass='NVDA'),\n",
       " Option(conId=725295038, symbol='NVDA', lastTradeDateOrContractMonth='20250417', strike=105.0, right='C', multiplier='100', exchange='SMART', currency='USD', localSymbol='NVDA  250417C00105000', tradingClass='NVDA'),\n",
       " Option(conId=725295076, symbol='NVDA', lastTradeDateOrContractMonth='20250417', strike=110.0, right='C', multiplier='100', exchange='SMART', currency='USD', localSymbol='NVDA  250417C00110000', tradingClass='NVDA'),\n",
       " Option(conId=725295110, symbol='NVDA', lastTradeDateOrContractMonth='20250417', strike=115.0, right='C', multiplier='100', exchange='SMART', currency='USD', localSymbol='NVDA  250417C00115000', tradingClass='NVDA'),\n",
       " Option(conId=725295157, symbol='NVDA', lastTradeDateOrContractMonth='20250417', strike=120.0, right='C', multiplier='100', exchange='SMART', currency='USD', localSymbol='NVDA  250417C00120000', tradingClass='NVDA'),\n",
       " Option(conId=725295190, symbol='NVDA', lastTradeDateOrContractMonth='20250417', strike=125.0, right='C', multiplier='100', exchange='SMART', currency='USD', localSymbol='NVDA  250417C00125000', tradingClass='NVDA'),\n",
       " Option(conId=761447848, symbol='NVDA', lastTradeDateOrContractMonth='20250404', strike=90.0, right='P', multiplier='100', exchange='SMART', currency='USD', localSymbol='NVDA  250404P00090000', tradingClass='NVDA'),\n",
       " Option(conId=761447893, symbol='NVDA', lastTradeDateOrContractMonth='20250404', strike=95.0, right='P', multiplier='100', exchange='SMART', currency='USD', localSymbol='NVDA  250404P00095000', tradingClass='NVDA'),\n",
       " Option(conId=761446309, symbol='NVDA', lastTradeDateOrContractMonth='20250404', strike=100.0, right='P', multiplier='100', exchange='SMART', currency='USD', localSymbol='NVDA  250404P00100000', tradingClass='NVDA'),\n",
       " Option(conId=761446360, symbol='NVDA', lastTradeDateOrContractMonth='20250404', strike=105.0, right='P', multiplier='100', exchange='SMART', currency='USD', localSymbol='NVDA  250404P00105000', tradingClass='NVDA'),\n",
       " Option(conId=761446389, symbol='NVDA', lastTradeDateOrContractMonth='20250404', strike=110.0, right='P', multiplier='100', exchange='SMART', currency='USD', localSymbol='NVDA  250404P00110000', tradingClass='NVDA'),\n",
       " Option(conId=761446437, symbol='NVDA', lastTradeDateOrContractMonth='20250404', strike=115.0, right='P', multiplier='100', exchange='SMART', currency='USD', localSymbol='NVDA  250404P00115000', tradingClass='NVDA'),\n",
       " Option(conId=761061695, symbol='NVDA', lastTradeDateOrContractMonth='20250404', strike=120.0, right='P', multiplier='100', exchange='SMART', currency='USD', localSymbol='NVDA  250404P00120000', tradingClass='NVDA'),\n",
       " Option(conId=761061993, symbol='NVDA', lastTradeDateOrContractMonth='20250404', strike=125.0, right='P', multiplier='100', exchange='SMART', currency='USD', localSymbol='NVDA  250404P00125000', tradingClass='NVDA'),\n",
       " Option(conId=765310716, symbol='NVDA', lastTradeDateOrContractMonth='20250411', strike=90.0, right='P', multiplier='100', exchange='SMART', currency='USD', localSymbol='NVDA  250411P00090000', tradingClass='NVDA'),\n",
       " Option(conId=765310757, symbol='NVDA', lastTradeDateOrContractMonth='20250411', strike=95.0, right='P', multiplier='100', exchange='SMART', currency='USD', localSymbol='NVDA  250411P00095000', tradingClass='NVDA'),\n",
       " Option(conId=765308985, symbol='NVDA', lastTradeDateOrContractMonth='20250411', strike=100.0, right='P', multiplier='100', exchange='SMART', currency='USD', localSymbol='NVDA  250411P00100000', tradingClass='NVDA'),\n",
       " Option(conId=765309030, symbol='NVDA', lastTradeDateOrContractMonth='20250411', strike=105.0, right='P', multiplier='100', exchange='SMART', currency='USD', localSymbol='NVDA  250411P00105000', tradingClass='NVDA'),\n",
       " Option(conId=765309078, symbol='NVDA', lastTradeDateOrContractMonth='20250411', strike=110.0, right='P', multiplier='100', exchange='SMART', currency='USD', localSymbol='NVDA  250411P00110000', tradingClass='NVDA'),\n",
       " Option(conId=764871310, symbol='NVDA', lastTradeDateOrContractMonth='20250411', strike=115.0, right='P', multiplier='100', exchange='SMART', currency='USD', localSymbol='NVDA  250411P00115000', tradingClass='NVDA'),\n",
       " Option(conId=764871627, symbol='NVDA', lastTradeDateOrContractMonth='20250411', strike=120.0, right='P', multiplier='100', exchange='SMART', currency='USD', localSymbol='NVDA  250411P00120000', tradingClass='NVDA'),\n",
       " Option(conId=764871908, symbol='NVDA', lastTradeDateOrContractMonth='20250411', strike=125.0, right='P', multiplier='100', exchange='SMART', currency='USD', localSymbol='NVDA  250411P00125000', tradingClass='NVDA'),\n",
       " Option(conId=725296700, symbol='NVDA', lastTradeDateOrContractMonth='20250417', strike=90.0, right='P', multiplier='100', exchange='SMART', currency='USD', localSymbol='NVDA  250417P00090000', tradingClass='NVDA'),\n",
       " Option(conId=725296725, symbol='NVDA', lastTradeDateOrContractMonth='20250417', strike=95.0, right='P', multiplier='100', exchange='SMART', currency='USD', localSymbol='NVDA  250417P00095000', tradingClass='NVDA'),\n",
       " Option(conId=725295997, symbol='NVDA', lastTradeDateOrContractMonth='20250417', strike=100.0, right='P', multiplier='100', exchange='SMART', currency='USD', localSymbol='NVDA  250417P00100000', tradingClass='NVDA'),\n",
       " Option(conId=725296047, symbol='NVDA', lastTradeDateOrContractMonth='20250417', strike=105.0, right='P', multiplier='100', exchange='SMART', currency='USD', localSymbol='NVDA  250417P00105000', tradingClass='NVDA'),\n",
       " Option(conId=725296067, symbol='NVDA', lastTradeDateOrContractMonth='20250417', strike=110.0, right='P', multiplier='100', exchange='SMART', currency='USD', localSymbol='NVDA  250417P00110000', tradingClass='NVDA'),\n",
       " Option(conId=725296088, symbol='NVDA', lastTradeDateOrContractMonth='20250417', strike=115.0, right='P', multiplier='100', exchange='SMART', currency='USD', localSymbol='NVDA  250417P00115000', tradingClass='NVDA'),\n",
       " Option(conId=725296130, symbol='NVDA', lastTradeDateOrContractMonth='20250417', strike=120.0, right='P', multiplier='100', exchange='SMART', currency='USD', localSymbol='NVDA  250417P00120000', tradingClass='NVDA'),\n",
       " Option(conId=725296150, symbol='NVDA', lastTradeDateOrContractMonth='20250417', strike=125.0, right='P', multiplier='100', exchange='SMART', currency='USD', localSymbol='NVDA  250417P00125000', tradingClass='NVDA')]"
      ]
     },
     "execution_count": 35,
     "metadata": {},
     "output_type": "execute_result"
    }
   ],
   "source": [
    "contracts"
   ]
  },
  {
   "cell_type": "code",
   "execution_count": null,
   "metadata": {},
   "outputs": [
    {
     "data": {
      "application/vnd.microsoft.datawrangler.viewer.v0+json": {
       "columns": [
        {
         "name": "index",
         "rawType": "int64",
         "type": "integer"
        },
        {
         "name": "expiration",
         "rawType": "object",
         "type": "string"
        },
        {
         "name": "strike",
         "rawType": "float64",
         "type": "float"
        },
        {
         "name": "right",
         "rawType": "object",
         "type": "string"
        },
        {
         "name": "time",
         "rawType": "datetime64[ns, UTC]",
         "type": "unknown"
        },
        {
         "name": "undPrice",
         "rawType": "float64",
         "type": "float"
        },
        {
         "name": "close",
         "rawType": "float64",
         "type": "float"
        }
       ],
       "conversionMethod": "pd.DataFrame",
       "ref": "aa525f13-68b2-41ed-b6e8-ac403c2612f7",
       "rows": [
        [
         "0",
         "20250404",
         "90.0",
         "C",
         "2025-04-02 11:29:10.789489+00:00",
         "20.23",
         "108.35"
        ],
        [
         "1",
         "20250404",
         "95.0",
         "C",
         "2025-04-02 11:29:11.151127+00:00",
         "15.27",
         "108.35"
        ],
        [
         "2",
         "20250404",
         "100.0",
         "C",
         "2025-04-02 11:29:11.152332+00:00",
         "10.42",
         "108.35"
        ],
        [
         "3",
         "20250404",
         "105.0",
         "C",
         "2025-04-02 11:29:10.793003+00:00",
         "5.98",
         "108.35"
        ],
        [
         "4",
         "20250404",
         "110.0",
         "C",
         "2025-04-02 11:29:10.793131+00:00",
         "2.55",
         "108.35"
        ],
        [
         "5",
         "20250404",
         "115.0",
         "C",
         "2025-04-02 11:29:10.793204+00:00",
         "0.63",
         "108.35"
        ],
        [
         "6",
         "20250404",
         "120.0",
         "C",
         "2025-04-02 11:29:11.151474+00:00",
         "0.09",
         "108.35"
        ],
        [
         "7",
         "20250404",
         "125.0",
         "C",
         "2025-04-02 11:29:11.153297+00:00",
         "0.02",
         "108.35"
        ],
        [
         "8",
         "20250411",
         "90.0",
         "C",
         "2025-04-02 11:29:11.151191+00:00",
         "20.44",
         "108.35"
        ],
        [
         "9",
         "20250411",
         "95.0",
         "C",
         "2025-04-02 11:29:11.151960+00:00",
         "15.62",
         "108.35"
        ],
        [
         "10",
         "20250411",
         "100.0",
         "C",
         "2025-04-02 11:29:22.567835+00:00",
         "11.05",
         "108.35"
        ],
        [
         "11",
         "20250411",
         "105.0",
         "C",
         "2025-04-02 11:29:11.322642+00:00",
         "7.0",
         "108.35"
        ],
        [
         "12",
         "20250411",
         "110.0",
         "C",
         "2025-04-02 11:29:11.322566+00:00",
         "3.79",
         "108.35"
        ],
        [
         "13",
         "20250411",
         "115.0",
         "C",
         "2025-04-02 11:29:11.614876+00:00",
         "1.64",
         "108.35"
        ],
        [
         "14",
         "20250411",
         "120.0",
         "C",
         "2025-04-02 11:29:11.615091+00:00",
         "0.57",
         "108.35"
        ],
        [
         "15",
         "20250411",
         "125.0",
         "C",
         "2025-04-02 11:29:11.616847+00:00",
         "0.19",
         "108.35"
        ],
        [
         "16",
         "20250417",
         "90.0",
         "C",
         "2025-04-02 11:29:12.266608+00:00",
         "20.63",
         "108.35"
        ],
        [
         "17",
         "20250417",
         "95.0",
         "C",
         "2025-04-02 11:29:12.264829+00:00",
         "15.93",
         "108.35"
        ],
        [
         "18",
         "20250417",
         "100.0",
         "C",
         "2025-04-02 11:29:12.265061+00:00",
         "11.54",
         "108.35"
        ],
        [
         "19",
         "20250417",
         "105.0",
         "C",
         "2025-04-02 11:29:12.265813+00:00",
         "7.68",
         "108.35"
        ],
        [
         "20",
         "20250417",
         "110.0",
         "C",
         "2025-04-02 11:29:12.265617+00:00",
         "4.55",
         "108.35"
        ],
        [
         "21",
         "20250417",
         "115.0",
         "C",
         "2025-04-02 11:29:12.266316+00:00",
         "2.34",
         "108.35"
        ],
        [
         "22",
         "20250417",
         "120.0",
         "C",
         "2025-04-02 11:29:12.266202+00:00",
         "1.04",
         "108.35"
        ],
        [
         "23",
         "20250417",
         "125.0",
         "C",
         "2025-04-02 11:29:12.266490+00:00",
         "0.44",
         "108.35"
        ],
        [
         "24",
         "20250404",
         "90.0",
         "P",
         "2025-04-02 11:29:12.320006+00:00",
         "0.04",
         "108.35"
        ],
        [
         "25",
         "20250404",
         "95.0",
         "P",
         "2025-04-02 11:29:12.319536+00:00",
         "0.09",
         "108.35"
        ],
        [
         "26",
         "20250404",
         "100.0",
         "P",
         "2025-04-02 11:29:12.319744+00:00",
         "0.22",
         "108.35"
        ],
        [
         "27",
         "20250404",
         "105.0",
         "P",
         "2025-04-02 11:29:12.319366+00:00",
         "0.79",
         "108.35"
        ],
        [
         "28",
         "20250404",
         "110.0",
         "P",
         "2025-04-02 11:29:12.319812+00:00",
         "2.36",
         "108.35"
        ],
        [
         "29",
         "20250404",
         "115.0",
         "P",
         "2025-04-02 11:29:12.319901+00:00",
         "5.44",
         "108.35"
        ],
        [
         "30",
         "20250404",
         "120.0",
         "P",
         "2025-04-02 11:29:12.319881+00:00",
         "9.91",
         "108.35"
        ],
        [
         "31",
         "20250404",
         "125.0",
         "P",
         "2025-04-02 11:29:12.319212+00:00",
         "14.85",
         "108.35"
        ],
        [
         "32",
         "20250411",
         "90.0",
         "P",
         "2025-04-02 11:29:12.320736+00:00",
         "0.17",
         "108.35"
        ],
        [
         "33",
         "20250411",
         "95.0",
         "P",
         "2025-04-02 11:29:12.321731+00:00",
         "0.34",
         "108.35"
        ],
        [
         "34",
         "20250411",
         "100.0",
         "P",
         "2025-04-02 11:29:12.320526+00:00",
         "0.76",
         "108.35"
        ],
        [
         "35",
         "20250411",
         "105.0",
         "P",
         "2025-04-02 11:29:12.320627+00:00",
         "1.72",
         "108.35"
        ],
        [
         "36",
         "20250411",
         "110.0",
         "P",
         "2025-04-02 11:29:12.320679+00:00",
         "3.5",
         "108.35"
        ],
        [
         "37",
         "20250411",
         "115.0",
         "P",
         "2025-04-02 11:29:12.320463+00:00",
         "6.36",
         "108.35"
        ],
        [
         "38",
         "20250411",
         "120.0",
         "P",
         "2025-04-02 11:29:12.320558+00:00",
         "10.3",
         "108.35"
        ],
        [
         "39",
         "20250411",
         "125.0",
         "P",
         "2025-04-02 11:29:12.321710+00:00",
         "14.94",
         "108.35"
        ],
        [
         "40",
         "20250417",
         "90.0",
         "P",
         "2025-04-02 11:29:12.320348+00:00",
         "0.31",
         "108.35"
        ],
        [
         "41",
         "20250417",
         "95.0",
         "P",
         "2025-04-02 11:29:12.320141+00:00",
         "0.6",
         "108.35"
        ],
        [
         "42",
         "20250417",
         "100.0",
         "P",
         "2025-04-02 11:29:12.320245+00:00",
         "1.2",
         "108.35"
        ],
        [
         "43",
         "20250417",
         "105.0",
         "P",
         "2025-04-02 11:29:12.320390+00:00",
         "2.33",
         "108.35"
        ],
        [
         "44",
         "20250417",
         "110.0",
         "P",
         "2025-04-02 11:29:12.394176+00:00",
         "4.2",
         "108.35"
        ],
        [
         "45",
         "20250417",
         "115.0",
         "P",
         "2025-04-02 11:29:12.394353+00:00",
         "6.99",
         "108.35"
        ],
        [
         "46",
         "20250417",
         "120.0",
         "P",
         "2025-04-02 11:29:12.393938+00:00",
         "10.71",
         "108.35"
        ],
        [
         "47",
         "20250417",
         "125.0",
         "P",
         "2025-04-02 11:29:12.394018+00:00",
         "15.13",
         "108.35"
        ]
       ],
       "shape": {
        "columns": 6,
        "rows": 48
       }
      },
      "text/html": [
       "<div>\n",
       "<style scoped>\n",
       "    .dataframe tbody tr th:only-of-type {\n",
       "        vertical-align: middle;\n",
       "    }\n",
       "\n",
       "    .dataframe tbody tr th {\n",
       "        vertical-align: top;\n",
       "    }\n",
       "\n",
       "    .dataframe thead th {\n",
       "        text-align: right;\n",
       "    }\n",
       "</style>\n",
       "<table border=\"1\" class=\"dataframe\">\n",
       "  <thead>\n",
       "    <tr style=\"text-align: right;\">\n",
       "      <th></th>\n",
       "      <th>expiration</th>\n",
       "      <th>strike</th>\n",
       "      <th>right</th>\n",
       "      <th>time</th>\n",
       "      <th>undPrice</th>\n",
       "      <th>close</th>\n",
       "    </tr>\n",
       "  </thead>\n",
       "  <tbody>\n",
       "    <tr>\n",
       "      <th>0</th>\n",
       "      <td>20250404</td>\n",
       "      <td>90.0</td>\n",
       "      <td>C</td>\n",
       "      <td>2025-04-02 11:29:10.789489+00:00</td>\n",
       "      <td>20.23</td>\n",
       "      <td>108.35</td>\n",
       "    </tr>\n",
       "    <tr>\n",
       "      <th>1</th>\n",
       "      <td>20250404</td>\n",
       "      <td>95.0</td>\n",
       "      <td>C</td>\n",
       "      <td>2025-04-02 11:29:11.151127+00:00</td>\n",
       "      <td>15.27</td>\n",
       "      <td>108.35</td>\n",
       "    </tr>\n",
       "    <tr>\n",
       "      <th>2</th>\n",
       "      <td>20250404</td>\n",
       "      <td>100.0</td>\n",
       "      <td>C</td>\n",
       "      <td>2025-04-02 11:29:11.152332+00:00</td>\n",
       "      <td>10.42</td>\n",
       "      <td>108.35</td>\n",
       "    </tr>\n",
       "    <tr>\n",
       "      <th>3</th>\n",
       "      <td>20250404</td>\n",
       "      <td>105.0</td>\n",
       "      <td>C</td>\n",
       "      <td>2025-04-02 11:29:10.793003+00:00</td>\n",
       "      <td>5.98</td>\n",
       "      <td>108.35</td>\n",
       "    </tr>\n",
       "    <tr>\n",
       "      <th>4</th>\n",
       "      <td>20250404</td>\n",
       "      <td>110.0</td>\n",
       "      <td>C</td>\n",
       "      <td>2025-04-02 11:29:10.793131+00:00</td>\n",
       "      <td>2.55</td>\n",
       "      <td>108.35</td>\n",
       "    </tr>\n",
       "    <tr>\n",
       "      <th>5</th>\n",
       "      <td>20250404</td>\n",
       "      <td>115.0</td>\n",
       "      <td>C</td>\n",
       "      <td>2025-04-02 11:29:10.793204+00:00</td>\n",
       "      <td>0.63</td>\n",
       "      <td>108.35</td>\n",
       "    </tr>\n",
       "    <tr>\n",
       "      <th>6</th>\n",
       "      <td>20250404</td>\n",
       "      <td>120.0</td>\n",
       "      <td>C</td>\n",
       "      <td>2025-04-02 11:29:11.151474+00:00</td>\n",
       "      <td>0.09</td>\n",
       "      <td>108.35</td>\n",
       "    </tr>\n",
       "    <tr>\n",
       "      <th>7</th>\n",
       "      <td>20250404</td>\n",
       "      <td>125.0</td>\n",
       "      <td>C</td>\n",
       "      <td>2025-04-02 11:29:11.153297+00:00</td>\n",
       "      <td>0.02</td>\n",
       "      <td>108.35</td>\n",
       "    </tr>\n",
       "    <tr>\n",
       "      <th>8</th>\n",
       "      <td>20250411</td>\n",
       "      <td>90.0</td>\n",
       "      <td>C</td>\n",
       "      <td>2025-04-02 11:29:11.151191+00:00</td>\n",
       "      <td>20.44</td>\n",
       "      <td>108.35</td>\n",
       "    </tr>\n",
       "    <tr>\n",
       "      <th>9</th>\n",
       "      <td>20250411</td>\n",
       "      <td>95.0</td>\n",
       "      <td>C</td>\n",
       "      <td>2025-04-02 11:29:11.151960+00:00</td>\n",
       "      <td>15.62</td>\n",
       "      <td>108.35</td>\n",
       "    </tr>\n",
       "    <tr>\n",
       "      <th>10</th>\n",
       "      <td>20250411</td>\n",
       "      <td>100.0</td>\n",
       "      <td>C</td>\n",
       "      <td>2025-04-02 11:29:22.567835+00:00</td>\n",
       "      <td>11.05</td>\n",
       "      <td>108.35</td>\n",
       "    </tr>\n",
       "    <tr>\n",
       "      <th>11</th>\n",
       "      <td>20250411</td>\n",
       "      <td>105.0</td>\n",
       "      <td>C</td>\n",
       "      <td>2025-04-02 11:29:11.322642+00:00</td>\n",
       "      <td>7.00</td>\n",
       "      <td>108.35</td>\n",
       "    </tr>\n",
       "    <tr>\n",
       "      <th>12</th>\n",
       "      <td>20250411</td>\n",
       "      <td>110.0</td>\n",
       "      <td>C</td>\n",
       "      <td>2025-04-02 11:29:11.322566+00:00</td>\n",
       "      <td>3.79</td>\n",
       "      <td>108.35</td>\n",
       "    </tr>\n",
       "    <tr>\n",
       "      <th>13</th>\n",
       "      <td>20250411</td>\n",
       "      <td>115.0</td>\n",
       "      <td>C</td>\n",
       "      <td>2025-04-02 11:29:11.614876+00:00</td>\n",
       "      <td>1.64</td>\n",
       "      <td>108.35</td>\n",
       "    </tr>\n",
       "    <tr>\n",
       "      <th>14</th>\n",
       "      <td>20250411</td>\n",
       "      <td>120.0</td>\n",
       "      <td>C</td>\n",
       "      <td>2025-04-02 11:29:11.615091+00:00</td>\n",
       "      <td>0.57</td>\n",
       "      <td>108.35</td>\n",
       "    </tr>\n",
       "    <tr>\n",
       "      <th>15</th>\n",
       "      <td>20250411</td>\n",
       "      <td>125.0</td>\n",
       "      <td>C</td>\n",
       "      <td>2025-04-02 11:29:11.616847+00:00</td>\n",
       "      <td>0.19</td>\n",
       "      <td>108.35</td>\n",
       "    </tr>\n",
       "    <tr>\n",
       "      <th>16</th>\n",
       "      <td>20250417</td>\n",
       "      <td>90.0</td>\n",
       "      <td>C</td>\n",
       "      <td>2025-04-02 11:29:12.266608+00:00</td>\n",
       "      <td>20.63</td>\n",
       "      <td>108.35</td>\n",
       "    </tr>\n",
       "    <tr>\n",
       "      <th>17</th>\n",
       "      <td>20250417</td>\n",
       "      <td>95.0</td>\n",
       "      <td>C</td>\n",
       "      <td>2025-04-02 11:29:12.264829+00:00</td>\n",
       "      <td>15.93</td>\n",
       "      <td>108.35</td>\n",
       "    </tr>\n",
       "    <tr>\n",
       "      <th>18</th>\n",
       "      <td>20250417</td>\n",
       "      <td>100.0</td>\n",
       "      <td>C</td>\n",
       "      <td>2025-04-02 11:29:12.265061+00:00</td>\n",
       "      <td>11.54</td>\n",
       "      <td>108.35</td>\n",
       "    </tr>\n",
       "    <tr>\n",
       "      <th>19</th>\n",
       "      <td>20250417</td>\n",
       "      <td>105.0</td>\n",
       "      <td>C</td>\n",
       "      <td>2025-04-02 11:29:12.265813+00:00</td>\n",
       "      <td>7.68</td>\n",
       "      <td>108.35</td>\n",
       "    </tr>\n",
       "    <tr>\n",
       "      <th>20</th>\n",
       "      <td>20250417</td>\n",
       "      <td>110.0</td>\n",
       "      <td>C</td>\n",
       "      <td>2025-04-02 11:29:12.265617+00:00</td>\n",
       "      <td>4.55</td>\n",
       "      <td>108.35</td>\n",
       "    </tr>\n",
       "    <tr>\n",
       "      <th>21</th>\n",
       "      <td>20250417</td>\n",
       "      <td>115.0</td>\n",
       "      <td>C</td>\n",
       "      <td>2025-04-02 11:29:12.266316+00:00</td>\n",
       "      <td>2.34</td>\n",
       "      <td>108.35</td>\n",
       "    </tr>\n",
       "    <tr>\n",
       "      <th>22</th>\n",
       "      <td>20250417</td>\n",
       "      <td>120.0</td>\n",
       "      <td>C</td>\n",
       "      <td>2025-04-02 11:29:12.266202+00:00</td>\n",
       "      <td>1.04</td>\n",
       "      <td>108.35</td>\n",
       "    </tr>\n",
       "    <tr>\n",
       "      <th>23</th>\n",
       "      <td>20250417</td>\n",
       "      <td>125.0</td>\n",
       "      <td>C</td>\n",
       "      <td>2025-04-02 11:29:12.266490+00:00</td>\n",
       "      <td>0.44</td>\n",
       "      <td>108.35</td>\n",
       "    </tr>\n",
       "    <tr>\n",
       "      <th>24</th>\n",
       "      <td>20250404</td>\n",
       "      <td>90.0</td>\n",
       "      <td>P</td>\n",
       "      <td>2025-04-02 11:29:12.320006+00:00</td>\n",
       "      <td>0.04</td>\n",
       "      <td>108.35</td>\n",
       "    </tr>\n",
       "    <tr>\n",
       "      <th>25</th>\n",
       "      <td>20250404</td>\n",
       "      <td>95.0</td>\n",
       "      <td>P</td>\n",
       "      <td>2025-04-02 11:29:12.319536+00:00</td>\n",
       "      <td>0.09</td>\n",
       "      <td>108.35</td>\n",
       "    </tr>\n",
       "    <tr>\n",
       "      <th>26</th>\n",
       "      <td>20250404</td>\n",
       "      <td>100.0</td>\n",
       "      <td>P</td>\n",
       "      <td>2025-04-02 11:29:12.319744+00:00</td>\n",
       "      <td>0.22</td>\n",
       "      <td>108.35</td>\n",
       "    </tr>\n",
       "    <tr>\n",
       "      <th>27</th>\n",
       "      <td>20250404</td>\n",
       "      <td>105.0</td>\n",
       "      <td>P</td>\n",
       "      <td>2025-04-02 11:29:12.319366+00:00</td>\n",
       "      <td>0.79</td>\n",
       "      <td>108.35</td>\n",
       "    </tr>\n",
       "    <tr>\n",
       "      <th>28</th>\n",
       "      <td>20250404</td>\n",
       "      <td>110.0</td>\n",
       "      <td>P</td>\n",
       "      <td>2025-04-02 11:29:12.319812+00:00</td>\n",
       "      <td>2.36</td>\n",
       "      <td>108.35</td>\n",
       "    </tr>\n",
       "    <tr>\n",
       "      <th>29</th>\n",
       "      <td>20250404</td>\n",
       "      <td>115.0</td>\n",
       "      <td>P</td>\n",
       "      <td>2025-04-02 11:29:12.319901+00:00</td>\n",
       "      <td>5.44</td>\n",
       "      <td>108.35</td>\n",
       "    </tr>\n",
       "    <tr>\n",
       "      <th>30</th>\n",
       "      <td>20250404</td>\n",
       "      <td>120.0</td>\n",
       "      <td>P</td>\n",
       "      <td>2025-04-02 11:29:12.319881+00:00</td>\n",
       "      <td>9.91</td>\n",
       "      <td>108.35</td>\n",
       "    </tr>\n",
       "    <tr>\n",
       "      <th>31</th>\n",
       "      <td>20250404</td>\n",
       "      <td>125.0</td>\n",
       "      <td>P</td>\n",
       "      <td>2025-04-02 11:29:12.319212+00:00</td>\n",
       "      <td>14.85</td>\n",
       "      <td>108.35</td>\n",
       "    </tr>\n",
       "    <tr>\n",
       "      <th>32</th>\n",
       "      <td>20250411</td>\n",
       "      <td>90.0</td>\n",
       "      <td>P</td>\n",
       "      <td>2025-04-02 11:29:12.320736+00:00</td>\n",
       "      <td>0.17</td>\n",
       "      <td>108.35</td>\n",
       "    </tr>\n",
       "    <tr>\n",
       "      <th>33</th>\n",
       "      <td>20250411</td>\n",
       "      <td>95.0</td>\n",
       "      <td>P</td>\n",
       "      <td>2025-04-02 11:29:12.321731+00:00</td>\n",
       "      <td>0.34</td>\n",
       "      <td>108.35</td>\n",
       "    </tr>\n",
       "    <tr>\n",
       "      <th>34</th>\n",
       "      <td>20250411</td>\n",
       "      <td>100.0</td>\n",
       "      <td>P</td>\n",
       "      <td>2025-04-02 11:29:12.320526+00:00</td>\n",
       "      <td>0.76</td>\n",
       "      <td>108.35</td>\n",
       "    </tr>\n",
       "    <tr>\n",
       "      <th>35</th>\n",
       "      <td>20250411</td>\n",
       "      <td>105.0</td>\n",
       "      <td>P</td>\n",
       "      <td>2025-04-02 11:29:12.320627+00:00</td>\n",
       "      <td>1.72</td>\n",
       "      <td>108.35</td>\n",
       "    </tr>\n",
       "    <tr>\n",
       "      <th>36</th>\n",
       "      <td>20250411</td>\n",
       "      <td>110.0</td>\n",
       "      <td>P</td>\n",
       "      <td>2025-04-02 11:29:12.320679+00:00</td>\n",
       "      <td>3.50</td>\n",
       "      <td>108.35</td>\n",
       "    </tr>\n",
       "    <tr>\n",
       "      <th>37</th>\n",
       "      <td>20250411</td>\n",
       "      <td>115.0</td>\n",
       "      <td>P</td>\n",
       "      <td>2025-04-02 11:29:12.320463+00:00</td>\n",
       "      <td>6.36</td>\n",
       "      <td>108.35</td>\n",
       "    </tr>\n",
       "    <tr>\n",
       "      <th>38</th>\n",
       "      <td>20250411</td>\n",
       "      <td>120.0</td>\n",
       "      <td>P</td>\n",
       "      <td>2025-04-02 11:29:12.320558+00:00</td>\n",
       "      <td>10.30</td>\n",
       "      <td>108.35</td>\n",
       "    </tr>\n",
       "    <tr>\n",
       "      <th>39</th>\n",
       "      <td>20250411</td>\n",
       "      <td>125.0</td>\n",
       "      <td>P</td>\n",
       "      <td>2025-04-02 11:29:12.321710+00:00</td>\n",
       "      <td>14.94</td>\n",
       "      <td>108.35</td>\n",
       "    </tr>\n",
       "    <tr>\n",
       "      <th>40</th>\n",
       "      <td>20250417</td>\n",
       "      <td>90.0</td>\n",
       "      <td>P</td>\n",
       "      <td>2025-04-02 11:29:12.320348+00:00</td>\n",
       "      <td>0.31</td>\n",
       "      <td>108.35</td>\n",
       "    </tr>\n",
       "    <tr>\n",
       "      <th>41</th>\n",
       "      <td>20250417</td>\n",
       "      <td>95.0</td>\n",
       "      <td>P</td>\n",
       "      <td>2025-04-02 11:29:12.320141+00:00</td>\n",
       "      <td>0.60</td>\n",
       "      <td>108.35</td>\n",
       "    </tr>\n",
       "    <tr>\n",
       "      <th>42</th>\n",
       "      <td>20250417</td>\n",
       "      <td>100.0</td>\n",
       "      <td>P</td>\n",
       "      <td>2025-04-02 11:29:12.320245+00:00</td>\n",
       "      <td>1.20</td>\n",
       "      <td>108.35</td>\n",
       "    </tr>\n",
       "    <tr>\n",
       "      <th>43</th>\n",
       "      <td>20250417</td>\n",
       "      <td>105.0</td>\n",
       "      <td>P</td>\n",
       "      <td>2025-04-02 11:29:12.320390+00:00</td>\n",
       "      <td>2.33</td>\n",
       "      <td>108.35</td>\n",
       "    </tr>\n",
       "    <tr>\n",
       "      <th>44</th>\n",
       "      <td>20250417</td>\n",
       "      <td>110.0</td>\n",
       "      <td>P</td>\n",
       "      <td>2025-04-02 11:29:12.394176+00:00</td>\n",
       "      <td>4.20</td>\n",
       "      <td>108.35</td>\n",
       "    </tr>\n",
       "    <tr>\n",
       "      <th>45</th>\n",
       "      <td>20250417</td>\n",
       "      <td>115.0</td>\n",
       "      <td>P</td>\n",
       "      <td>2025-04-02 11:29:12.394353+00:00</td>\n",
       "      <td>6.99</td>\n",
       "      <td>108.35</td>\n",
       "    </tr>\n",
       "    <tr>\n",
       "      <th>46</th>\n",
       "      <td>20250417</td>\n",
       "      <td>120.0</td>\n",
       "      <td>P</td>\n",
       "      <td>2025-04-02 11:29:12.393938+00:00</td>\n",
       "      <td>10.71</td>\n",
       "      <td>108.35</td>\n",
       "    </tr>\n",
       "    <tr>\n",
       "      <th>47</th>\n",
       "      <td>20250417</td>\n",
       "      <td>125.0</td>\n",
       "      <td>P</td>\n",
       "      <td>2025-04-02 11:29:12.394018+00:00</td>\n",
       "      <td>15.13</td>\n",
       "      <td>108.35</td>\n",
       "    </tr>\n",
       "  </tbody>\n",
       "</table>\n",
       "</div>"
      ],
      "text/plain": [
       "   expiration  strike right                             time  undPrice   close\n",
       "0    20250404    90.0     C 2025-04-02 11:29:10.789489+00:00     20.23  108.35\n",
       "1    20250404    95.0     C 2025-04-02 11:29:11.151127+00:00     15.27  108.35\n",
       "2    20250404   100.0     C 2025-04-02 11:29:11.152332+00:00     10.42  108.35\n",
       "3    20250404   105.0     C 2025-04-02 11:29:10.793003+00:00      5.98  108.35\n",
       "4    20250404   110.0     C 2025-04-02 11:29:10.793131+00:00      2.55  108.35\n",
       "5    20250404   115.0     C 2025-04-02 11:29:10.793204+00:00      0.63  108.35\n",
       "6    20250404   120.0     C 2025-04-02 11:29:11.151474+00:00      0.09  108.35\n",
       "7    20250404   125.0     C 2025-04-02 11:29:11.153297+00:00      0.02  108.35\n",
       "8    20250411    90.0     C 2025-04-02 11:29:11.151191+00:00     20.44  108.35\n",
       "9    20250411    95.0     C 2025-04-02 11:29:11.151960+00:00     15.62  108.35\n",
       "10   20250411   100.0     C 2025-04-02 11:29:22.567835+00:00     11.05  108.35\n",
       "11   20250411   105.0     C 2025-04-02 11:29:11.322642+00:00      7.00  108.35\n",
       "12   20250411   110.0     C 2025-04-02 11:29:11.322566+00:00      3.79  108.35\n",
       "13   20250411   115.0     C 2025-04-02 11:29:11.614876+00:00      1.64  108.35\n",
       "14   20250411   120.0     C 2025-04-02 11:29:11.615091+00:00      0.57  108.35\n",
       "15   20250411   125.0     C 2025-04-02 11:29:11.616847+00:00      0.19  108.35\n",
       "16   20250417    90.0     C 2025-04-02 11:29:12.266608+00:00     20.63  108.35\n",
       "17   20250417    95.0     C 2025-04-02 11:29:12.264829+00:00     15.93  108.35\n",
       "18   20250417   100.0     C 2025-04-02 11:29:12.265061+00:00     11.54  108.35\n",
       "19   20250417   105.0     C 2025-04-02 11:29:12.265813+00:00      7.68  108.35\n",
       "20   20250417   110.0     C 2025-04-02 11:29:12.265617+00:00      4.55  108.35\n",
       "21   20250417   115.0     C 2025-04-02 11:29:12.266316+00:00      2.34  108.35\n",
       "22   20250417   120.0     C 2025-04-02 11:29:12.266202+00:00      1.04  108.35\n",
       "23   20250417   125.0     C 2025-04-02 11:29:12.266490+00:00      0.44  108.35\n",
       "24   20250404    90.0     P 2025-04-02 11:29:12.320006+00:00      0.04  108.35\n",
       "25   20250404    95.0     P 2025-04-02 11:29:12.319536+00:00      0.09  108.35\n",
       "26   20250404   100.0     P 2025-04-02 11:29:12.319744+00:00      0.22  108.35\n",
       "27   20250404   105.0     P 2025-04-02 11:29:12.319366+00:00      0.79  108.35\n",
       "28   20250404   110.0     P 2025-04-02 11:29:12.319812+00:00      2.36  108.35\n",
       "29   20250404   115.0     P 2025-04-02 11:29:12.319901+00:00      5.44  108.35\n",
       "30   20250404   120.0     P 2025-04-02 11:29:12.319881+00:00      9.91  108.35\n",
       "31   20250404   125.0     P 2025-04-02 11:29:12.319212+00:00     14.85  108.35\n",
       "32   20250411    90.0     P 2025-04-02 11:29:12.320736+00:00      0.17  108.35\n",
       "33   20250411    95.0     P 2025-04-02 11:29:12.321731+00:00      0.34  108.35\n",
       "34   20250411   100.0     P 2025-04-02 11:29:12.320526+00:00      0.76  108.35\n",
       "35   20250411   105.0     P 2025-04-02 11:29:12.320627+00:00      1.72  108.35\n",
       "36   20250411   110.0     P 2025-04-02 11:29:12.320679+00:00      3.50  108.35\n",
       "37   20250411   115.0     P 2025-04-02 11:29:12.320463+00:00      6.36  108.35\n",
       "38   20250411   120.0     P 2025-04-02 11:29:12.320558+00:00     10.30  108.35\n",
       "39   20250411   125.0     P 2025-04-02 11:29:12.321710+00:00     14.94  108.35\n",
       "40   20250417    90.0     P 2025-04-02 11:29:12.320348+00:00      0.31  108.35\n",
       "41   20250417    95.0     P 2025-04-02 11:29:12.320141+00:00      0.60  108.35\n",
       "42   20250417   100.0     P 2025-04-02 11:29:12.320245+00:00      1.20  108.35\n",
       "43   20250417   105.0     P 2025-04-02 11:29:12.320390+00:00      2.33  108.35\n",
       "44   20250417   110.0     P 2025-04-02 11:29:12.394176+00:00      4.20  108.35\n",
       "45   20250417   115.0     P 2025-04-02 11:29:12.394353+00:00      6.99  108.35\n",
       "46   20250417   120.0     P 2025-04-02 11:29:12.393938+00:00     10.71  108.35\n",
       "47   20250417   125.0     P 2025-04-02 11:29:12.394018+00:00     15.13  108.35"
      ]
     },
     "execution_count": 15,
     "metadata": {},
     "output_type": "execute_result"
    }
   ],
   "source": [
    "contracts = ib.qualifyContracts(*contracts)\n",
    "tickers = ib.reqTickers(*contracts)\n",
    "\n",
    "contractData = [\n",
    "    (\n",
    "        t.contract.lastTradeDateOrContractMonth, \n",
    "        t.contract.strike, \n",
    "        t.contract.right,\n",
    "        t.time,\n",
    "        t.close,\n",
    "        nvdaValue,\n",
    "    )\n",
    "    for t\n",
    "    in tickers\n",
    "]\n",
    "\n",
    "fields = [\n",
    "    \"expiration\", \n",
    "    \"strike\", \n",
    "    \"right\", \n",
    "    \"time\", \n",
    "    \"undPrice\",\n",
    "    \"close\", \n",
    "]\n",
    "\n",
    "util.df([dict(zip(fields, t)) for t in contractData])"
   ]
  },
  {
   "cell_type": "code",
   "execution_count": null,
   "metadata": {},
   "outputs": [
    {
     "ename": "TypeError",
     "evalue": "IB.disconnect() got an unexpected keyword argument 'clientId'",
     "output_type": "error",
     "traceback": [
      "\u001b[31m---------------------------------------------------------------------------\u001b[39m",
      "\u001b[31mTypeError\u001b[39m                                 Traceback (most recent call last)",
      "\u001b[36mCell\u001b[39m\u001b[36m \u001b[39m\u001b[32mIn[21]\u001b[39m\u001b[32m, line 1\u001b[39m\n\u001b[32m----> \u001b[39m\u001b[32m1\u001b[39m \u001b[43mib\u001b[49m\u001b[43m.\u001b[49m\u001b[43mdisconnect\u001b[49m\u001b[43m(\u001b[49m\u001b[33;43m'\u001b[39;49m\u001b[33;43m127.0.0.1\u001b[39;49m\u001b[33;43m'\u001b[39;49m\u001b[43m,\u001b[49m\u001b[43m \u001b[49m\u001b[32;43m7496\u001b[39;49m\u001b[43m,\u001b[49m\u001b[43m \u001b[49m\u001b[43mclientId\u001b[49m\u001b[43m=\u001b[49m\u001b[32;43m13\u001b[39;49m\u001b[43m,\u001b[49m\u001b[43m \u001b[49m\u001b[43mreadonly\u001b[49m\u001b[43m=\u001b[49m\u001b[38;5;28;43;01mTrue\u001b[39;49;00m\u001b[43m)\u001b[49m\n",
      "\u001b[31mTypeError\u001b[39m: IB.disconnect() got an unexpected keyword argument 'clientId'"
     ]
    }
   ],
   "source": [
    "ib.disconnect()"
   ]
  },
  {
   "cell_type": "code",
   "execution_count": null,
   "metadata": {},
   "outputs": [],
   "source": []
  }
 ],
 "metadata": {
  "kernelspec": {
   "display_name": ".venv",
   "language": "python",
   "name": "python3"
  },
  "language_info": {
   "codemirror_mode": {
    "name": "ipython",
    "version": 3
   },
   "file_extension": ".py",
   "mimetype": "text/x-python",
   "name": "python",
   "nbconvert_exporter": "python",
   "pygments_lexer": "ipython3",
   "version": "3.13.3"
  }
 },
 "nbformat": 4,
 "nbformat_minor": 2
}
